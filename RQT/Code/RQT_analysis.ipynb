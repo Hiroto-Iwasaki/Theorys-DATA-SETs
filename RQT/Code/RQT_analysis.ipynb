{
  "nbformat": 4,
  "nbformat_minor": 0,
  "metadata": {
    "colab": {
      "provenance": []
    },
    "kernelspec": {
      "name": "python3",
      "display_name": "Python 3"
    },
    "language_info": {
      "name": "python"
    }
  },
  "cells": [
    {
      "cell_type": "code",
      "source": [
        "# Verification I: Quantitative Prediction of the Jarlskog Invariant\n",
        "# 検証 I：Jarlskog不変量の定量的予測\n",
        "\n",
        "This notebook calculates the theoretical value of the Jarlskog invariant, $J_{CP}$, which quantifies the magnitude of CP violation, using the CKM matrix parameters derived from Recursive Quantum Theory (RQT). The result is then compared with the experimental value.\n",
        "このノートブックは、再帰的量子論（RQT）から導出されたCKM行列パラメータを用いて、CP対称性の破れの大きさを示すJarlskog不変量 $J_{CP}$ の理論値を計算し、実験値と比較するものです。\n",
        "\n",
        "### 1. Definition of the Jarlskog Invariant\n",
        "### 1. Jarlskog不変量の定義式\n",
        "\n",
        "The Jarlskog invariant $J_{CP}$ is defined using the CKM mixing angles ($\\theta_{12}, \\theta_{23}, \\theta_{13}$) and the CP-violating phase ($\\delta_{CP}$) as follows:\n",
        "Jarlskog不変量 $J_{CP}$ は、CKMの混合角($\\theta_{12}, \\theta_{23}, \\theta_{13}$)とCP位相($\\delta_{CP}$)を用いて以下のように定義されます：\n",
        "$$ J_{CP} = \\sin(\\theta_{12})\\sin(\\theta_{23})\\sin(\\theta_{13}) \\cos(\\theta_{12})\\cos(\\theta_{23})\\cos^2(\\theta_{13})\\sin(\\delta_{CP}) $$\n",
        "\n",
        "### 2. Theoretical Predictions from RQT\n",
        "### 2. RQTによる理論予測値\n",
        "\n",
        "From the first principles of RQT, the parameters are predicted as follows:\n",
        "RQTの第一原理から、各パラメータは以下のように予測されます：\n",
        "- $\\theta_{12} \\approx 14.2^\\circ$\n",
        "- $\\theta_{23} \\approx 3.7^\\circ$\n",
        "- $\\theta_{13} \\approx 0.23^\\circ$\n",
        "- $\\delta_{CP} \\approx 66.8^\\circ$\n",
        "\n",
        "We will substitute these values into the definition above to calculate $J_{CP}^{\\text{RQT}}$.\n",
        "これらの値を上記の定義式に代入し、$J_{CP}^{\\text{RQT}}$を算出します。"
      ],
      "metadata": {
        "id": "auF2e5e15uDC"
      },
      "execution_count": null,
      "outputs": []
    },
    {
      "cell_type": "code",
      "source": [
        "import numpy as np\n",
        "\n",
        "# --- Theoretical Predictions from RQT (in degrees) ---\n",
        "# --- RQTによる理論予測値 (度数法) ---\n",
        "theta12_deg = 14.2\n",
        "theta23_deg = 3.7\n",
        "theta13_deg = 0.23\n",
        "delta_cp_deg = 66.8\n",
        "\n",
        "# --- Convert degrees to radians for trigonometric functions ---\n",
        "# --- 三角関数計算のため、度数法からラジアンに変換 ---\n",
        "theta12 = np.deg2rad(theta12_deg)\n",
        "theta23 = np.deg2rad(theta23_deg)\n",
        "theta13 = np.deg2rad(theta13_deg)\n",
        "delta_cp = np.deg2rad(delta_cp_deg)\n",
        "\n",
        "# --- Calculate the Jarlskog Invariant ---\n",
        "# --- Jarlskog不変量の計算 ---\n",
        "s12 = np.sin(theta12)\n",
        "s23 = np.sin(theta23)\n",
        "s13 = np.sin(theta13)\n",
        "c12 = np.cos(theta12)\n",
        "c23 = np.cos(theta23)\n",
        "c13 = np.cos(theta13)\n",
        "s_delta = np.sin(delta_cp)\n",
        "\n",
        "J_cp_rqt = s12 * s23 * s13 * c12 * c23 * c13**2 * s_delta\n",
        "\n",
        "# --- Comparison with the experimental value ---\n",
        "# --- 実験値との比較 ---\n",
        "J_cp_exp = 3.18e-5 # Source: Particle Data Group (PDG) 2024\n",
        "                   # 出典: Particle Data Group (PDG) 2024\n",
        "\n",
        "# --- Display the results ---\n",
        "# --- 結果の表示 ---\n",
        "print(\"--- Calculation Result of the Jarlskog Invariant from RQT ---\")\n",
        "print(\"--- RQTによるJarlskog不変量の計算結果 ---\")\n",
        "print(f\"Theoretical prediction from RQT: J_cp(RQT) = {J_cp_rqt:.3e}\")\n",
        "print(f\"RQTからの理論予測値: J_cp(RQT) = {J_cp_rqt:.3e}\")\n",
        "print(f\"Experimental value (PDG 2024):    J_cp(exp) = {J_cp_exp:.3e}\")\n",
        "print(f\"実験値 (PDG 2024):    J_cp(exp) = {J_cp_exp:.3e}\")\n",
        "print(\"-\" * 55)\n",
        "\n",
        "# Calculate and display the discrepancy factor\n",
        "# 理論値と実験値の比（ずれ）を計算・表示\n",
        "discrepancy_factor = J_cp_rqt / J_cp_exp\n",
        "print(f\"Ratio of theoretical/experimental values: {discrepancy_factor:.2f}\")\n",
        "print(f\"理論値と実験値の比 (ずれ): {discrepancy_factor:.2f} 倍\")"
      ],
      "metadata": {
        "colab": {
          "base_uri": "https://localhost:8080/"
        },
        "id": "i5KEmjb_oWcF",
        "outputId": "d96aaf6b-582e-4f0d-d96d-3b3d9bb03f79"
      },
      "execution_count": 2,
      "outputs": [
        {
          "output_type": "stream",
          "name": "stdout",
          "text": [
            "--- Calculation Result of the Jarlskog Invariant from RQT ---\n",
            "--- RQTによるJarlskog不変量の計算結果 ---\n",
            "Theoretical prediction from RQT: J_cp(RQT) = 5.650e-05\n",
            "RQTからの理論予測値: J_cp(RQT) = 5.650e-05\n",
            "Experimental value (PDG 2024):    J_cp(exp) = 3.180e-05\n",
            "実験値 (PDG 2024):    J_cp(exp) = 3.180e-05\n",
            "-------------------------------------------------------\n",
            "Ratio of theoretical/experimental values: 1.78\n",
            "理論値と実験値の比 (ずれ): 1.78 倍\n"
          ]
        }
      ]
    },
    {
      "cell_type": "markdown",
      "source": [],
      "metadata": {
        "id": "4XfE8cVuoR7f"
      }
    }
  ]
}